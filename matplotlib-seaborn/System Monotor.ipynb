{
 "cells": [
  {
   "cell_type": "code",
   "execution_count": 1,
   "metadata": {},
   "outputs": [],
   "source": [
    "import time \n",
    "import matplotlib.pyplot as plt\n",
    "import numpy as np"
   ]
  },
  {
   "cell_type": "code",
   "execution_count": 2,
   "metadata": {},
   "outputs": [],
   "source": [
    "def get_memory(t):\n",
    "    'Simulate a function that returns system memory'\n",
    "    return 100 * (0.5 + 0.5 *np.sin(0.5 * np.pi * t))"
   ]
  },
  {
   "cell_type": "code",
   "execution_count": 3,
   "metadata": {},
   "outputs": [],
   "source": [
    "def get_cpu(t):\n",
    "    'Simulate a function that returns cpu usage'\n",
    "    return 100 * (0.5 +0.5 * np.sin(0.2 * np.pi * (t - 0.25)))"
   ]
  },
  {
   "cell_type": "code",
   "execution_count": 5,
   "metadata": {},
   "outputs": [],
   "source": [
    "def get_net(t):\n",
    "    'Simulate a function that returns network bandwith'\n",
    "    return 100 * (0.5 +0.5 * np.sin(0.7 * np.pi * (t - 0.1)))"
   ]
  },
  {
   "cell_type": "code",
   "execution_count": 6,
   "metadata": {},
   "outputs": [],
   "source": [
    "def get_stats(t):\n",
    "    return get_memory(t),get_cpu(t),get_net(t)"
   ]
  },
  {
   "cell_type": "code",
   "execution_count": 42,
   "metadata": {},
   "outputs": [
    {
     "name": "stdout",
     "output_type": "stream",
     "text": [
      "70.6 frames per second\n"
     ]
    },
    {
     "data": {
      "image/png": "[encoded data removed]",
      "text/plain": [
       "<Figure size 720x576 with 1 Axes>"
      ]
     },
     "metadata": {},
     "output_type": "display_data"
    }
   ],
   "source": [
    "fig,ax = plt.subplots(figsize = (10,8)) # 加载子图\n",
    "ind = np.arange(1,4)\n",
    "pm,pc,pn = plt.bar(ind,get_stats(0))  # 横坐标需要给3个值才能有后续的编辑\n",
    "pm.set_facecolor('r')  # 1.0这个位置改为红色\n",
    "pc.set_facecolor('g')\n",
    "pn.set_facecolor('b')\n",
    "ax.set_xticks(ind)\n",
    "ax.set_xticklabels(['Memory','CPU','Bandwidth'])  # 设置x的标签\n",
    "ax.set_ylim([0,100]) # 设置y轴的值域\n",
    "ax.set_ylabel('Percent usage') #设置y轴label\n",
    "ax.set_title('System Monitor')\n",
    "start = time.time()\n",
    "for i in range(200):\n",
    "    m,c,n = get_stats(i/10.0)\n",
    "    pm.set_height(m)\n",
    "    pc.set_height(c)\n",
    "    pn.set_height(n)\n",
    "    fig.canvas.draw_idle() #重新绘制整个图表\n",
    "    try:\n",
    "        fig.canvas.flush_events()  # Flush the GUI events for the figure.Interactive backends need to reimplement this method\n",
    "    except NotImplementedError:\n",
    "        pass\n",
    "stop = time.time()\n",
    "print ('{fps:.1f} frames per second'.format(fps=200/(stop-start)))"
   ]
  },
  {
   "cell_type": "code",
   "execution_count": null,
   "metadata": {},
   "outputs": [],
   "source": []
  }
 ],
 "metadata": {
  "kernelspec": {
   "display_name": "Python 3",
   "language": "python",
   "name": "python3"
  },
  "language_info": {
   "codemirror_mode": {
    "name": "ipython",
    "version": 3
   },
   "file_extension": ".py",
   "mimetype": "text/x-python",
   "name": "python",
   "nbconvert_exporter": "python",
   "pygments_lexer": "ipython3",
   "version": "3.6.5"
  }
 },
 "nbformat": 4,
 "nbformat_minor": 2
}
