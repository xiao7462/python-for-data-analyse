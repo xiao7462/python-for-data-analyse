{
 "cells": [
  {
   "cell_type": "markdown",
   "metadata": {},
   "source": [
    "# 对象 = 属性（静态） + 方法（动态）"
   ]
  },
  {
   "cell_type": "markdown",
   "metadata": {},
   "source": [
    "## 例： 定义一个乌龟"
   ]
  },
  {
   "cell_type": "code",
   "execution_count": 3,
   "metadata": {},
   "outputs": [],
   "source": [
    "class Turtle : # python中的类约定以大写字母开头\n",
    "    \"\"\" 关于类的一个简答的例子\"\"\"\n",
    "    #属性\n",
    "    color = 'green'\n",
    "    weight = 10\n",
    "    legs = 4\n",
    "    shell = True \n",
    "    mouth = '大嘴'\n",
    "    \n",
    "    #方法\n",
    "    def climb(self):\n",
    "        print ('正在爬')\n",
    "    \n",
    "    def run(self):\n",
    "        print ('正在run')\n",
    "    \n",
    "    def bite(self):\n",
    "        print ('正在咬')"
   ]
  },
  {
   "cell_type": "markdown",
   "metadata": {},
   "source": [
    "类相当于盖房子时的**图纸**，可以按照这个图纸来建房子，但是只有图纸是不能住进去的，所以需要类的**实例** ，又叫类的实例化"
   ]
  },
  {
   "cell_type": "code",
   "execution_count": 5,
   "metadata": {},
   "outputs": [
    {
     "name": "stdout",
     "output_type": "stream",
     "text": [
      "正在爬\n"
     ]
    }
   ],
   "source": [
    "#生成对象实例\n",
    "tt = Turtle() \n",
    "tt.climb()"
   ]
  },
  {
   "cell_type": "markdown",
   "metadata": {},
   "source": [
    "## OO = Obiect Oriented   面向对象"
   ]
  },
  {
   "cell_type": "markdown",
   "metadata": {},
   "source": [
    "### OO的特征 ： "
   ]
  },
  {
   "cell_type": "markdown",
   "metadata": {},
   "source": [
    "* 封装： 信息隐蔽技术 \n",
    "* 继承： 实例化的对具有类的方法\n",
    "* 多态： 不同的函数具有相同的函数名称     [廖雪峰](https://www.liaoxuefeng.com/wiki/0014316089557264a6b348958f449949df42a6d3a2e542c000/001431865288798deef438d865e4c2985acff7e9fad15e3000)"
   ]
  },
  {
   "cell_type": "code",
   "execution_count": 8,
   "metadata": {},
   "outputs": [],
   "source": [
    "list1 = [2, 1, 5, 7, 9]"
   ]
  },
  {
   "cell_type": "code",
   "execution_count": 11,
   "metadata": {},
   "outputs": [
    {
     "data": {
      "text/plain": [
       "[1, 2, 5, 7, 9]"
      ]
     },
     "execution_count": 11,
     "metadata": {},
     "output_type": "execute_result"
    }
   ],
   "source": [
    "list1.sort()\n",
    "list1"
   ]
  },
  {
   "cell_type": "code",
   "execution_count": 13,
   "metadata": {},
   "outputs": [
    {
     "data": {
      "text/plain": [
       "[1, 2, 5, 7, 9, 10, 10]"
      ]
     },
     "execution_count": 13,
     "metadata": {},
     "output_type": "execute_result"
    }
   ],
   "source": [
    "list1.append(10)\n",
    "list1"
   ]
  },
  {
   "cell_type": "markdown",
   "metadata": {},
   "source": [
    "实际上我们不知道列表的sort 和append具体方法，系统开始也不知道list1所含元素，但是一旦生成了list1为列表，就自动包含了列表的方法，也是**继承**"
   ]
  }
 ],
 "metadata": {
  "kernelspec": {
   "display_name": "Python 3",
   "language": "python",
   "name": "python3"
  },
  "language_info": {
   "codemirror_mode": {
    "name": "ipython",
    "version": 3
   },
   "file_extension": ".py",
   "mimetype": "text/x-python",
   "name": "python",
   "nbconvert_exporter": "python",
   "pygments_lexer": "ipython3",
   "version": "3.6.5"
  }
 },
 "nbformat": 4,
 "nbformat_minor": 2
}
