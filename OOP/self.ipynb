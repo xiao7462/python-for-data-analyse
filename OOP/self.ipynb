{
 "cells": [
  {
   "cell_type": "markdown",
   "metadata": {},
   "source": [
    "# self"
   ]
  },
  {
   "cell_type": "markdown",
   "metadata": {},
   "source": [
    "python的self相当于C++的this指针"
   ]
  },
  {
   "cell_type": "markdown",
   "metadata": {},
   "source": [
    "类是图纸，而由类实例化的对象才是真正能住人的房子，根据图纸就可以设计出许多的房子，都差不多，但是每个房子都只有自己的门牌号"
   ]
  },
  {
   "cell_type": "markdown",
   "metadata": {},
   "source": [
    "当对象的方法被调用的时候，就会将self自身作为第一个参数传个类，python就知道了是哪一个对象在调用方法了"
   ]
  },
  {
   "cell_type": "code",
   "execution_count": 4,
   "metadata": {},
   "outputs": [],
   "source": [
    "class Ball : \n",
    "    def setName(self, name):\n",
    "        self.name = name\n",
    "    def kick(self):\n",
    "        print ( \"我叫%s啊啊啊\" % self.name)"
   ]
  },
  {
   "cell_type": "code",
   "execution_count": 5,
   "metadata": {},
   "outputs": [],
   "source": [
    "a = Ball()\n",
    "a.setName('球A')"
   ]
  },
  {
   "cell_type": "code",
   "execution_count": 6,
   "metadata": {},
   "outputs": [],
   "source": [
    "b = Ball()\n",
    "b.setName('球B')"
   ]
  },
  {
   "cell_type": "code",
   "execution_count": 7,
   "metadata": {},
   "outputs": [
    {
     "name": "stdout",
     "output_type": "stream",
     "text": [
      "我叫球A啊啊啊\n"
     ]
    }
   ],
   "source": [
    "a.kick()"
   ]
  },
  {
   "cell_type": "code",
   "execution_count": 8,
   "metadata": {},
   "outputs": [
    {
     "name": "stdout",
     "output_type": "stream",
     "text": [
      "我叫球B啊啊啊\n"
     ]
    }
   ],
   "source": [
    "b.kick()"
   ]
  }
 ],
 "metadata": {
  "kernelspec": {
   "display_name": "Python 3",
   "language": "python",
   "name": "python3"
  },
  "language_info": {
   "codemirror_mode": {
    "name": "ipython",
    "version": 3
   },
   "file_extension": ".py",
   "mimetype": "text/x-python",
   "name": "python",
   "nbconvert_exporter": "python",
   "pygments_lexer": "ipython3",
   "version": "3.6.5"
  }
 },
 "nbformat": 4,
 "nbformat_minor": 2
}
